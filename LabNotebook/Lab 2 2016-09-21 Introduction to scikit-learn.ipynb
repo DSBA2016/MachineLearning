{
 "cells": [
  {
   "cell_type": "markdown",
   "metadata": {},
   "source": [
    "# 2016-09-21: Introduction to scikit-learn\n",
    "This tutorial is based on resources from http://scikit-learn.org and the scikit-learn tutorial at Scipy 2013 by Gael Varoquaux, Jake VanderPlas and Olivier Grisel (https://www.youtube.com/watch?v=r4bRUvvlaBw and https://github.com/jakevdp/sklearn_scipy2013).\n",
    "\n",
    "Machine learning is about creating models from data: for that reason, we’ll start by discussing how data can be represented in order to be understood by the computer. Along with this, we’ll build on our matplotlib examples from the previous lab and show some examples of how to visualize data.\n",
    "\n",
    "Most machine learning algorithms implemented in scikit-learn expect data to be stored in a two-dimensional array, of shape `(n_samples, n_features)`. The arrays can be either NumPy arrays, or in some cases `scipy.sparse` matrices. The number of features must be fixed in advance. However it can be very high dimensional (e.g. millions of features) with most of them being zeros for a given sample. This is a case where `scipy.sparse` matrices can be useful, in that they are much more memory-efficient than NumPy arrays."
   ]
  },
  {
   "cell_type": "markdown",
   "metadata": {},
   "source": [
    "## 1. The endometrium vs uterus cancer data\n",
    "\n",
    "For this lab and many of the coming ones, we will work with gene expression data measured on endometrium and ovary tumors. The data originally comes from http://gemler.fzv.uni-mb.si/index.php but has been downsized so that it is easier to work with in our labs.\n",
    "\n",
    "The data we will work with contains the expression of 3,000 genes, measured for 61 endometrium tumors and 123 uterus tumors."
   ]
  },
  {
   "cell_type": "markdown",
   "metadata": {},
   "source": [
    "### Loading the data\n",
    "The data is stored in a CSV file, `small_Endometrium_Uterus.csv`. Many utilities can be used to read CSV files, including the `csv` module and the `pandas` module (that is meant for data mining). We will focus on using numpy directly.\n",
    "\n",
    "A quick look at the file shows us that\n",
    "* its first line is a header\n",
    "* each of its lines is a tumor sample. \n",
    "* the first column of each line is the tumor sample's ID\n",
    "* the last column of each line is the type of tissue (Endometrium or Uterus)\n",
    "* all columns in between give the expression of one gene."
   ]
  },
  {
   "cell_type": "code",
   "execution_count": 1,
   "metadata": {
    "collapsed": true
   },
   "outputs": [],
   "source": [
    "import numpy as np"
   ]
  },
  {
   "cell_type": "code",
   "execution_count": 2,
   "metadata": {
    "collapsed": true
   },
   "outputs": [],
   "source": [
    "# Load the gene expression data\n",
    "X = np.loadtxt('data/small_Endometrium_Uterus.csv',  delimiter=',', \n",
    "               skiprows=1, usecols=range(1, 3001))"
   ]
  },
  {
   "cell_type": "code",
   "execution_count": 3,
   "metadata": {
    "collapsed": false
   },
   "outputs": [
    {
     "name": "stdout",
     "output_type": "stream",
     "text": [
      "[0 0 0 0 0 0 0 1 1 1 1 1 1 1 1 1 1 1 1 0 0 0 0 0 0 1 1 1 1 1 1 1 1 1 1 1 1\n",
      " 1 0 0 0 0 0 0 1 1 1 1 1 1 1 1 1 1 1 1 0 0 0 0 0 0 1 1 1 1 1 1 1 1 1 1 1 1\n",
      " 1 0 0 0 0 0 0 1 1 1 1 1 1 1 1 1 1 1 1 1 0 0 0 0 0 0 1 1 1 1 1 1 1 1 1 1 1\n",
      " 1 0 0 0 0 0 0 1 1 1 1 1 1 1 1 1 1 1 1 0 0 0 0 0 0 1 1 1 1 1 1 1 1 1 1 1 1\n",
      " 0 0 0 0 0 0 1 1 1 1 1 1 1 1 1 1 1 0 0 0 0 0 0 1 1 1 1 1 1 1 1 1 1 1 1]\n"
     ]
    }
   ],
   "source": [
    "# Load the labels (Python )\n",
    "y = np.loadtxt('data/small_Endometrium_Uterus.csv', delimiter=',', \n",
    "               skiprows=1, usecols=[3001], dtype='string')\n",
    "\n",
    "# Python 3 alternative:\n",
    "#y = np.loadtxt('data/small_Endometrium_Uterus.csv', delimiter=',', \n",
    "#               skiprows=1, usecols=[3001], dtype='bytes').astype('str')\n",
    "\n",
    "# Convert 'Endometrium' to 0 and 'Uterus' to 1\n",
    "y = np.where(y=='Endometrium', 0, 1)\n",
    "print y"
   ]
  },
  {
   "cell_type": "code",
   "execution_count": 4,
   "metadata": {
    "collapsed": false
   },
   "outputs": [
    {
     "name": "stdout",
     "output_type": "stream",
     "text": [
      "[0 0 0 0 0 0 0 1 1 1 1 1 1 1 1 1 1 1 1 0 0 0 0 0 0 1 1 1 1 1 1 1 1 1 1 1 1\n",
      " 1 0 0 0 0 0 0 1 1 1 1 1 1 1 1 1 1 1 1 0 0 0 0 0 0 1 1 1 1 1 1 1 1 1 1 1 1\n",
      " 1 0 0 0 0 0 0 1 1 1 1 1 1 1 1 1 1 1 1 1 0 0 0 0 0 0 1 1 1 1 1 1 1 1 1 1 1\n",
      " 1 0 0 0 0 0 0 1 1 1 1 1 1 1 1 1 1 1 1 0 0 0 0 0 0 1 1 1 1 1 1 1 1 1 1 1 1\n",
      " 0 0 0 0 0 0 1 1 1 1 1 1 1 1 1 1 1 0 0 0 0 0 0 1 1 1 1 1 1 1 1 1 1 1 1]\n"
     ]
    }
   ],
   "source": [
    "# Python 2.7 only: We could have done the previous operation in one step, using a converter\n",
    "y = np.loadtxt('data/small_Endometrium_Uterus.csv', delimiter=',', skiprows=1, usecols=[3001], \n",
    "               converters={3001: lambda s: 0 if s=='Endometrium' else 1}, dtype='int')\n",
    "print y"
   ]
  },
  {
   "cell_type": "markdown",
   "metadata": {},
   "source": [
    "### Visualizing the data"
   ]
  },
  {
   "cell_type": "code",
   "execution_count": 5,
   "metadata": {
    "collapsed": false
   },
   "outputs": [
    {
     "name": "stdout",
     "output_type": "stream",
     "text": [
      "Populating the interactive namespace from numpy and matplotlib\n"
     ]
    }
   ],
   "source": [
    "# Load pylab\n",
    "%pylab inline"
   ]
  },
  {
   "cell_type": "code",
   "execution_count": 6,
   "metadata": {
    "collapsed": false
   },
   "outputs": [
    {
     "data": {
      "text/plain": [
       "<matplotlib.text.Text at 0x7f99a1601510>"
      ]
     },
     "execution_count": 6,
     "metadata": {},
     "output_type": "execute_result"
    },
    {
     "data": {
      "image/png": "[encoded data removed]",
      "text/plain": [
       "<matplotlib.figure.Figure at 0x7f99a18af150>"
      ]
     },
     "metadata": {},
     "output_type": "display_data"
    }
   ],
   "source": [
    "# Visualize the data across 2 of its axes\n",
    "idx_1 = 0 # first axis (or gene)\n",
    "idx_2 = 1 # second axis (or gene)\n",
    "plt.scatter(X[y==0, idx_1], X[y==0, idx_2], # y==0 gives the indices of the columns for which y is equal to 0\n",
    "            color='blue', label='Endometrium')\n",
    "plt.scatter(X[y==1, idx_1], X[y==1, idx_2], color='orange', label='Uterus')\n",
    "plt.legend(scatterpoints=1)\n",
    "plt.xlabel('Gene %d' % idx_1, fontsize=14)\n",
    "plt.ylabel('Gene %d' % idx_2, fontsize=14)"
   ]
  },
  {
   "cell_type": "markdown",
   "metadata": {},
   "source": [
    "Play with the values of `idx_1` and `idx_2`. What do you notice about the range of the values taken by the different genes?"
   ]
  },
  {
   "cell_type": "markdown",
   "metadata": {},
   "source": [
    "## 2. Gaussian Naive Bayes\n",
    "\n",
    "Documentation: http://scikit-learn.org/stable/modules/generated/sklearn.naive_bayes.GaussianNB.html \n",
    "\n",
    "Our goal here is to try to classify points between endometrium and uterus tumors."
   ]
  },
  {
   "cell_type": "code",
   "execution_count": 7,
   "metadata": {
    "collapsed": true
   },
   "outputs": [],
   "source": [
    "# import Gaussian Naive Bayes\n",
    "from sklearn.naive_bayes import GaussianNB"
   ]
  },
  {
   "cell_type": "code",
   "execution_count": 8,
   "metadata": {
    "collapsed": true
   },
   "outputs": [],
   "source": [
    "# create a Gaussian Naive Bayes classifier i.e. an instance of GaussianNB\n",
    "gnb = GaussianNB()"
   ]
  },
  {
   "cell_type": "code",
   "execution_count": 9,
   "metadata": {
    "collapsed": false
   },
   "outputs": [
    {
     "data": {
      "text/plain": [
       "GaussianNB()"
      ]
     },
     "execution_count": 9,
     "metadata": {},
     "output_type": "execute_result"
    }
   ],
   "source": [
    "# fit the classifier to the data\n",
    "gnb.fit(X, y)"
   ]
  },
  {
   "cell_type": "code",
   "execution_count": 10,
   "metadata": {
    "collapsed": true
   },
   "outputs": [],
   "source": [
    "# predict on the same data\n",
    "y_pred = gnb.predict(X)"
   ]
  },
  {
   "cell_type": "code",
   "execution_count": 11,
   "metadata": {
    "collapsed": false
   },
   "outputs": [
    {
     "name": "stdout",
     "output_type": "stream",
     "text": [
      "Number of mislabeled points out of a total 183 points : 21\n"
     ]
    }
   ],
   "source": [
    "# compute the number of mislabeled genes\n",
    "print(\"Number of mislabeled points out of a total %d points : %d\" % \\\n",
    "      (X.shape[0], (y != y_pred).sum()))"
   ]
  },
  {
   "cell_type": "code",
   "execution_count": 12,
   "metadata": {
    "collapsed": false
   },
   "outputs": [
    {
     "name": "stdout",
     "output_type": "stream",
     "text": [
      "Accuracy: 0.885\n"
     ]
    }
   ],
   "source": [
    "# Score the model\n",
    "from sklearn import metrics\n",
    "print \"Accuracy: %.3f\" % metrics.accuracy_score(y, y_pred)"
   ]
  },
  {
   "cell_type": "markdown",
   "metadata": {},
   "source": [
    "### ROC Curve\n",
    "\n",
    "Building an ROC curve requires to use the probability estimates for the test data points *before* they are thresholded."
   ]
  },
  {
   "cell_type": "code",
   "execution_count": 13,
   "metadata": {
    "collapsed": false
   },
   "outputs": [
    {
     "name": "stdout",
     "output_type": "stream",
     "text": [
      "(183, 2)\n"
     ]
    }
   ],
   "source": [
    "# Get probability estimates\n",
    "y_prob = gnb.predict_proba(X)\n",
    "print y_prob.shape"
   ]
  },
  {
   "cell_type": "markdown",
   "metadata": {},
   "source": [
    "**Question:** `y_prob` returns two values for each data point because it returns one probability estimate per class for each data point. The order in which the classes appear are given by `gnb.classes_`. How do you get the 1-dimensional array that only contains the estimated probability for each point to belong to the positive class?  "
   ]
  },
  {
   "cell_type": "code",
   "execution_count": 16,
   "metadata": {
    "collapsed": false
   },
   "outputs": [
    {
     "name": "stdout",
     "output_type": "stream",
     "text": [
      "[0 1]\n",
      "[  2.84024282e-014   8.36056083e-033   2.16180037e-027   9.22590124e-019\n",
      "   3.39266390e-024   6.96222735e-293   0.00000000e+000   1.00000000e+000\n",
      "   1.00000000e+000   1.00000000e+000   1.00000000e+000   1.00000000e+000\n",
      "   1.00000000e+000   1.00000000e+000   1.00000000e+000   1.00000000e+000\n",
      "   1.00000000e+000   1.00000000e+000   1.00000000e+000   0.00000000e+000\n",
      "   6.05967513e-103   2.16270358e-203   5.17774978e-102   1.95130116e-077\n",
      "   1.00000000e+000   1.00000000e+000   1.00000000e+000   1.00000000e+000\n",
      "   4.52903823e-002   1.55361297e-091   1.00000000e+000   1.00000000e+000\n",
      "   7.87682870e-151   1.00000000e+000   1.00000000e+000   1.00000000e+000\n",
      "   1.00000000e+000   1.00000000e+000   4.23459483e-194   0.00000000e+000\n",
      "   3.59773765e-047   1.07713652e-100   1.08559178e-121   0.00000000e+000\n",
      "   3.33430031e-059   1.00000000e+000   1.00000000e+000   1.00000000e+000\n",
      "   1.00000000e+000   1.00000000e+000   1.00000000e+000   1.00000000e+000\n",
      "   9.99999922e-001   1.00000000e+000   1.00000000e+000   1.00000000e+000\n",
      "   0.00000000e+000   1.00000000e+000   0.00000000e+000   1.27337391e-023\n",
      "   1.01905756e-030   5.42798017e-026   1.00000000e+000   1.00000000e+000\n",
      "   1.00000000e+000   1.00000000e+000   1.00000000e+000   1.00000000e+000\n",
      "   1.00000000e+000   1.00000000e+000   1.00000000e+000   1.00000000e+000\n",
      "   1.00000000e+000   1.00000000e+000   1.00000000e+000   2.23006271e-189\n",
      "   1.16814874e-310   7.36306995e-307   7.92921004e-308   1.52123222e-316\n",
      "   0.00000000e+000   1.00000000e+000   1.00000000e+000   1.00000000e+000\n",
      "   1.00000000e+000   1.00000000e+000   1.00000000e+000   1.98186000e-185\n",
      "   1.00000000e+000   5.88105968e-091   1.00000000e+000   1.00000000e+000\n",
      "   1.00000000e+000   1.00000000e+000   5.03069243e-215   2.82136898e-222\n",
      "   0.00000000e+000   1.94154287e-073   4.91844778e-142   3.80412727e-076\n",
      "   1.00000000e+000   1.00000000e+000   1.00000000e+000   1.00000000e+000\n",
      "   1.00000000e+000   8.25638652e-057   1.00000000e+000   1.00000000e+000\n",
      "   1.00000000e+000   1.00000000e+000   1.00000000e+000   1.00000000e+000\n",
      "   5.03068763e-306   2.53120525e-019   1.00000000e+000   6.48262846e-195\n",
      "   1.00000000e+000   4.26677408e-081   1.00000000e+000   1.00000000e+000\n",
      "   1.00000000e+000   1.00000000e+000   1.00000000e+000   1.00000000e+000\n",
      "   1.00000000e+000   7.60997257e-032   1.00000000e+000   2.42210606e-036\n",
      "   1.00000000e+000   1.00000000e+000   0.00000000e+000   2.55825832e-051\n",
      "   3.08254550e-164   4.20660744e-180   0.00000000e+000   1.00000000e+000\n",
      "   1.00000000e+000   1.00000000e+000   1.00000000e+000   1.93072763e-083\n",
      "   1.00000000e+000   1.00000000e+000   1.00000000e+000   1.38202815e-164\n",
      "   4.79010464e-035   1.00000000e+000   1.00000000e+000   1.00000000e+000\n",
      "   3.64331383e-149   0.00000000e+000   4.08318252e-096   7.18352981e-075\n",
      "   1.74417098e-079   1.99489773e-099   1.00000000e+000   1.00000000e+000\n",
      "   1.00000000e+000   2.63298497e-058   1.00000000e+000   1.00000000e+000\n",
      "   1.00000000e+000   1.00000000e+000   1.00000000e+000   1.00000000e+000\n",
      "   1.74208176e-085   1.00000000e+000   1.59670982e-303   6.89196883e-250\n",
      "   1.50785975e-278   1.00000000e+000   2.46717152e-078   1.00000000e+000\n",
      "   1.00000000e+000   1.00000000e+000   1.00000000e+000   1.00000000e+000\n",
      "   1.00000000e+000   1.00000000e+000   1.00000000e+000   1.00000000e+000\n",
      "   1.00000000e+000   1.00000000e+000   1.00000000e+000]\n"
     ]
    }
   ],
   "source": [
    "print gnb.classes_\n",
    "#Get the proba for the positive class (second column of y_prob)\n",
    "print y_prob[:,1]"
   ]
  },
  {
   "cell_type": "code",
   "execution_count": 17,
   "metadata": {
    "collapsed": false
   },
   "outputs": [
    {
     "data": {
      "text/plain": [
       "<matplotlib.legend.Legend at 0x7f9996a9c050>"
      ]
     },
     "execution_count": 17,
     "metadata": {},
     "output_type": "execute_result"
    },
    {
     "data": {
      "image/png": "[encoded data removed]",
      "text/plain": [
       "<matplotlib.figure.Figure at 0x7f99973f4690>"
      ]
     },
     "metadata": {},
     "output_type": "display_data"
    }
   ],
   "source": [
    "# ROC curve\n",
    "fpr, tpr, thresholds = metrics.roc_curve(y, y_prob[:, 1], pos_label=1)\n",
    "\n",
    "# Area under the ROC curve\n",
    "auc = metrics.auc(fpr, tpr)\n",
    "\n",
    "# Plot the ROC curve\n",
    "plt.plot(fpr, tpr, '-', color='orange', label='AUC = %0.3f' % auc)\n",
    "\n",
    "plt.xlabel('False Positive Rate', fontsize=16)\n",
    "plt.ylabel('True Positive Rate', fontsize=16)\n",
    "plt.title('ROC curve: Gaussian Naive Bayes', fontsize=16)\n",
    "plt.legend(loc=\"lower right\")"
   ]
  },
  {
   "cell_type": "markdown",
   "metadata": {},
   "source": [
    "**Question:** What are the parameters of the model we have trained? How many of them are they? How can you access them?"
   ]
  },
  {
   "cell_type": "code",
   "execution_count": 19,
   "metadata": {
    "collapsed": false
   },
   "outputs": [
    {
     "name": "stdout",
     "output_type": "stream",
     "text": [
      "{}\n",
      "[[  6.11284988e+02   2.10112675e+07   2.54271395e+03 ...,   9.53875346e+03\n",
      "    2.71018529e+04   1.32044226e+03]\n",
      " [  1.30276519e+03   2.19631790e+07   1.61332248e+04 ...,   1.15641399e+04\n",
      "    4.80117057e+04   1.34616912e+03]]\n",
      "[[   26.61803279  9199.51803279    44.3147541  ...,   121.8295082\n",
      "    121.94590164    36.21639344]\n",
      " [   31.42131148  9042.91803279    57.90327869 ...,   151.3704918\n",
      "    134.03278689    35.65      ]]\n"
     ]
    }
   ],
   "source": [
    "#Couldn't get the params of gnb through get_params(). It's seems to be a deprecated function.\n",
    "#If someone figured it out, please commit your solution\n",
    "print gnb.get_params()\n",
    "#We can access to the mean and variance through the following arrays\n",
    "print gnb.sigma_\n",
    "print gnb.theta_"
   ]
  },
  {
   "cell_type": "markdown",
   "metadata": {},
   "source": [
    "**Question:** What is it problematic to have evaluated our classifier on the training data? "
   ]
  },
  {
   "cell_type": "markdown",
   "metadata": {},
   "source": [
    "It is problematic because our model may have overfit the training data"
   ]
  },
  {
   "cell_type": "markdown",
   "metadata": {},
   "source": [
    "## 3. Cross-validation"
   ]
  },
  {
   "cell_type": "code",
   "execution_count": 20,
   "metadata": {
    "collapsed": false
   },
   "outputs": [],
   "source": [
    "# Set up a stratified 10-fold cross-validation\n",
    "from sklearn import cross_validation\n",
    "folds = cross_validation.StratifiedKFold(y, 10, shuffle=True)"
   ]
  },
  {
   "cell_type": "code",
   "execution_count": 21,
   "metadata": {
    "collapsed": false
   },
   "outputs": [
    {
     "name": "stdout",
     "output_type": "stream",
     "text": [
      "Fold 0\n",
      "\t 163 training points\n",
      "\t 20 test points\n",
      "Fold 1\n",
      "\t 164 training points\n",
      "\t 19 test points\n",
      "Fold 2\n",
      "\t 165 training points\n",
      "\t 18 test points\n",
      "Fold 3\n",
      "\t 165 training points\n",
      "\t 18 test points\n",
      "Fold 4\n",
      "\t 165 training points\n",
      "\t 18 test points\n",
      "Fold 5\n",
      "\t 165 training points\n",
      "\t 18 test points\n",
      "Fold 6\n",
      "\t 165 training points\n",
      "\t 18 test points\n",
      "Fold 7\n",
      "\t 165 training points\n",
      "\t 18 test points\n",
      "Fold 8\n",
      "\t 165 training points\n",
      "\t 18 test points\n",
      "Fold 9\n",
      "\t 165 training points\n",
      "\t 18 test points\n"
     ]
    }
   ],
   "source": [
    "# This is one way to access the training and test points\n",
    "for ix, (tr, te) in enumerate(folds):\n",
    "    print \"Fold %d\" % ix\n",
    "    print \"\\t %d training points\" % len(tr)\n",
    "    print \"\\t %d test points\" % len(te)"
   ]
  },
  {
   "cell_type": "markdown",
   "metadata": {},
   "source": [
    "**Question:** Create a loop that goes through all 10 folds and for each fold:\n",
    "* trains a Gaussian Naive Bayes model on the training data\n",
    "* uses this model to make predictions on the test data. \n",
    "In this fashion you should be able to form *a single vector of predictions* `y_prob_cv` (as each point from the data appears once as a test point in the cross-validation)."
   ]
  },
  {
   "cell_type": "code",
   "execution_count": 32,
   "metadata": {
    "collapsed": false
   },
   "outputs": [
    {
     "name": "stdout",
     "output_type": "stream",
     "text": [
      "Fold number : 0\n",
      "\t Accuracy: 0.700\n",
      "Fold number : 1\n",
      "\t Accuracy: 0.579\n",
      "Fold number : 2\n",
      "\t Accuracy: 0.778\n",
      "Fold number : 3\n",
      "\t Accuracy: 0.778\n",
      "Fold number : 4\n",
      "\t Accuracy: 0.778\n",
      "Fold number : 5\n",
      "\t Accuracy: 0.611\n",
      "Fold number : 6\n",
      "\t Accuracy: 0.722\n",
      "Fold number : 7\n",
      "\t Accuracy: 0.611\n",
      "Fold number : 8\n",
      "\t Accuracy: 0.722\n",
      "Fold number : 9\n",
      "\t Accuracy: 0.556\n",
      "(183,)\n"
     ]
    }
   ],
   "source": [
    "y_prob_cv = np.zeros(y.shape) #Probabilities array\n",
    "y_pred_cv = np.zeros(y.shape) #Prediction array\n",
    "for ix, (tr,te) in enumerate(folds):\n",
    "    print \"Fold number : %d\" % ix\n",
    "    gnb.fit(X[tr],y[tr]) #We fit the model on the training data\n",
    "    y_pred_temp = gnb.predict(X[te]) #We make the prediction on the testing data\n",
    "    y_prob_temp = gnb.predict_proba(X[te])[:, 1] #We get the probabilities for the positive classe of the testing data\n",
    "    print \"\\t Accuracy: %.3f\" % metrics.accuracy_score(y[te], y_pred_temp)\n",
    "    y_prob_cv[te] = y_prob_temp\n",
    "    y_pred_cv[te] = y_pred_temp\n",
    "print y_prob_cv.shape"
   ]
  },
  {
   "cell_type": "markdown",
   "metadata": {},
   "source": [
    "**Question:** Evaluate the performance of your model (accuracy, AUC, ROC-AUC). How does it compare to the one you previously obtained?"
   ]
  },
  {
   "cell_type": "code",
   "execution_count": 28,
   "metadata": {
    "collapsed": false
   },
   "outputs": [
    {
     "name": "stdout",
     "output_type": "stream",
     "text": [
      "Accuracy: 0.683\n"
     ]
    }
   ],
   "source": [
    "#Accuracy of the model \n",
    "print \"Accuracy: %.3f\" % metrics.accuracy_score(y, y_pred_cv)"
   ]
  },
  {
   "cell_type": "code",
   "execution_count": 29,
   "metadata": {
    "collapsed": false
   },
   "outputs": [
    {
     "data": {
      "text/plain": [
       "<matplotlib.legend.Legend at 0x7f99969aa190>"
      ]
     },
     "execution_count": 29,
     "metadata": {},
     "output_type": "execute_result"
    },
    {
     "data": {
      "image/png": "[encoded data removed]",
      "text/plain": [
       "<matplotlib.figure.Figure at 0x7f99973e5d90>"
      ]
     },
     "metadata": {},
     "output_type": "display_data"
    }
   ],
   "source": [
    "# ROC curve\n",
    "fpr, tpr, thresholds = metrics.roc_curve(y, y_prob_cv, pos_label=1)\n",
    "\n",
    "# Area under the ROC curve\n",
    "auc = metrics.auc(fpr, tpr)\n",
    "\n",
    "# Plot the ROC curve\n",
    "plt.plot(fpr, tpr, '-', color='orange', label='AUC = %0.3f' % auc)\n",
    "\n",
    "plt.xlabel('False Positive Rate', fontsize=16)\n",
    "plt.ylabel('True Positive Rate', fontsize=16)\n",
    "plt.title('ROC curve: Gaussian Naive Bayes', fontsize=16)\n",
    "plt.legend(loc=\"lower right\")"
   ]
  },
  {
   "cell_type": "markdown",
   "metadata": {},
   "source": [
    "**Question:** The `sklearn.cross_validation` module provides some utilities to make cross-validated predictions. Compare the results you obtained to what they return."
   ]
  },
  {
   "cell_type": "code",
   "execution_count": 33,
   "metadata": {
    "collapsed": false
   },
   "outputs": [
    {
     "name": "stdout",
     "output_type": "stream",
     "text": [
      "0.659401709402\n"
     ]
    }
   ],
   "source": [
    "gnb = GaussianNB()\n",
    "cv_aucs = cross_validation.cross_val_score(gnb, X, y, cv=folds, scoring='roc_auc')\n",
    "print np.mean(cv_aucs)\n",
    "\n",
    "# Note that averaging the AUCs obtained over 10 folds is not exactly the same as \n",
    "# globally computing the AUC for the predictions made within the cross-validation loop."
   ]
  },
  {
   "cell_type": "code",
   "execution_count": 34,
   "metadata": {
    "collapsed": false
   },
   "outputs": [
    {
     "name": "stdout",
     "output_type": "stream",
     "text": [
      "Cross-validated accuracy: 0.683\n",
      "Cross-validated accuracy: 0.683\n"
     ]
    }
   ],
   "source": [
    "gnb = GaussianNB()\n",
    "print \"Cross-validated accuracy: %.3f\" % \\\n",
    "    metrics.accuracy_score(y, cross_validation.cross_val_predict(gnb, X, y, cv=folds))\n",
    "# This should return the same as \n",
    "print \"Cross-validated accuracy: %.3f\" % metrics.accuracy_score(y, np.where(y_prob_cv > 0.5, 1, 0))    "
   ]
  },
  {
   "cell_type": "markdown",
   "metadata": {},
   "source": [
    "We get the same result as the one we obtained with our cross validation"
   ]
  },
  {
   "cell_type": "markdown",
   "metadata": {},
   "source": [
    "## 4. Iris data\n",
    "As an example of a simple dataset, we’re going to take a look at the Iris data stored by scikit-learn. The data is a classical UCI dataset and consists of measurements of three different species of irises.\n",
    "\n",
    "You can learn more about this data set here: https://en.wikipedia.org/wiki/Iris_flower_data_set."
   ]
  },
  {
   "cell_type": "markdown",
   "metadata": {},
   "source": [
    "**Question:** What features could you use to represent irises in order to decide to which of the three species they belong?"
   ]
  },
  {
   "cell_type": "markdown",
   "metadata": {},
   "source": []
  },
  {
   "cell_type": "markdown",
   "metadata": {},
   "source": [
    "scikit-learn has a very straightforward set of data on these iris species. The data consist of the following:\n",
    "* Features in the Iris dataset:\n",
    "    * sepal length in cm\n",
    "    * sepal width in cm\n",
    "    * petal length in cm\n",
    "    * petal width in cm\n",
    "* Target classes to predict:\n",
    "    * Iris setosa\n",
    "    * Iris versicolour\n",
    "    * Iris virginica"
   ]
  },
  {
   "cell_type": "markdown",
   "metadata": {},
   "source": [
    "### Loading the data"
   ]
  },
  {
   "cell_type": "code",
   "execution_count": 35,
   "metadata": {
    "collapsed": true
   },
   "outputs": [],
   "source": [
    "from sklearn.datasets import load_iris\n",
    "iris = load_iris()"
   ]
  },
  {
   "cell_type": "code",
   "execution_count": 36,
   "metadata": {
    "collapsed": false
   },
   "outputs": [
    {
     "data": {
      "text/plain": [
       "['target_names', 'data', 'target', 'DESCR', 'feature_names']"
      ]
     },
     "execution_count": 36,
     "metadata": {},
     "output_type": "execute_result"
    }
   ],
   "source": [
    "# iris is a Bunch object\n",
    "# see what’s available in iris:\n",
    "iris.keys()"
   ]
  },
  {
   "cell_type": "code",
   "execution_count": 37,
   "metadata": {
    "collapsed": false
   },
   "outputs": [
    {
     "name": "stdout",
     "output_type": "stream",
     "text": [
      "150\n",
      "4\n",
      "[ 5.1  3.5  1.4  0.2]\n"
     ]
    }
   ],
   "source": [
    "# The features of each sample flower are stored in the data\n",
    "# attribute of the dataset:\n",
    "n_samples, n_features = iris.data.shape\n",
    "print n_samples\n",
    "print n_features\n",
    "print iris.data[0]"
   ]
  },
  {
   "cell_type": "code",
   "execution_count": 38,
   "metadata": {
    "collapsed": false
   },
   "outputs": [
    {
     "name": "stdout",
     "output_type": "stream",
     "text": [
      "(150,)\n",
      "[0 0 0 0 0 0 0 0 0 0 0 0 0 0 0 0 0 0 0 0 0 0 0 0 0 0 0 0 0 0 0 0 0 0 0 0 0\n",
      " 0 0 0 0 0 0 0 0 0 0 0 0 0 1 1 1 1 1 1 1 1 1 1 1 1 1 1 1 1 1 1 1 1 1 1 1 1\n",
      " 1 1 1 1 1 1 1 1 1 1 1 1 1 1 1 1 1 1 1 1 1 1 1 1 1 1 2 2 2 2 2 2 2 2 2 2 2\n",
      " 2 2 2 2 2 2 2 2 2 2 2 2 2 2 2 2 2 2 2 2 2 2 2 2 2 2 2 2 2 2 2 2 2 2 2 2 2\n",
      " 2 2]\n"
     ]
    }
   ],
   "source": [
    "# The information about the class of each sample is stored in the target\n",
    "# attribute of the dataset:\n",
    "print iris.target.shape\n",
    "print iris.target"
   ]
  },
  {
   "cell_type": "code",
   "execution_count": 39,
   "metadata": {
    "collapsed": false
   },
   "outputs": [
    {
     "name": "stdout",
     "output_type": "stream",
     "text": [
      "['setosa' 'versicolor' 'virginica']\n"
     ]
    }
   ],
   "source": [
    "# The names of the classes are stored in the last attribute,\n",
    "# namely target_names:\n",
    "print iris.target_names"
   ]
  },
  {
   "cell_type": "markdown",
   "metadata": {},
   "source": [
    "### Visualizing the data"
   ]
  },
  {
   "cell_type": "code",
   "execution_count": 41,
   "metadata": {
    "collapsed": false
   },
   "outputs": [
    {
     "name": "stdout",
     "output_type": "stream",
     "text": [
      "Populating the interactive namespace from numpy and matplotlib\n"
     ]
    },
    {
     "data": {
      "text/plain": [
       "<matplotlib.text.Text at 0x7f9995a661d0>"
      ]
     },
     "execution_count": 41,
     "metadata": {},
     "output_type": "execute_result"
    },
    {
     "data": {
      "image/png": "[encoded data removed]",
      "text/plain": [
       "<matplotlib.figure.Figure at 0x7f9995ad6f90>"
      ]
     },
     "metadata": {},
     "output_type": "display_data"
    }
   ],
   "source": [
    "# This data is four dimensional, but we can visualize two of the dimensions at a time using a simple scatter-plot.\n",
    "%pylab inline\n",
    "idx_1 = 0 # index of the first feature to plot\n",
    "idx_2 = 3 # index of the second feature to plot\n",
    "\n",
    "# Scatterplot\n",
    "plt.scatter(iris.data[:, idx_1], iris.data[:, idx_2], s=40, c=iris.target)\n",
    "\n",
    "# Create a formatter that will label the colorbar with the correct target names.\n",
    "# lambda i, *args: iris.target_names[int(i)] converts an index i into the corresponding label\n",
    "formatter = plt.FuncFormatter(lambda i, *args: iris.target_names[int(i)])\n",
    "plt.colorbar(ticks=[0, 1, 2], format=formatter)\n",
    "\n",
    "plt.xlabel(iris.feature_names[idx_1], fontsize=14)\n",
    "plt.ylabel(iris.feature_names[idx_2], fontsize=14)"
   ]
  },
  {
   "cell_type": "markdown",
   "metadata": {},
   "source": [
    "**Question:** Change `idx_1` and `idx_2`, and find (visually) which combination of two parameters best separates the three classes."
   ]
  },
  {
   "cell_type": "markdown",
   "metadata": {},
   "source": [
    "The combination of id_1 = 0 and idx_2 = 3 seems to be good enough"
   ]
  },
  {
   "cell_type": "markdown",
   "metadata": {},
   "source": [
    "**Question:** Create a Gaussian Naive Bayes classifier and train it on the Iris data, using only the two features you have identified in the previous question. How many instances are misclassified?"
   ]
  },
  {
   "cell_type": "code",
   "execution_count": 42,
   "metadata": {
    "collapsed": false
   },
   "outputs": [
    {
     "name": "stdout",
     "output_type": "stream",
     "text": [
      "Number of mislabeled points out of a total 150 points : 6\n"
     ]
    }
   ],
   "source": [
    "gnb.fit(iris.data[:,[idx_1,idx_2]], iris.target)\n",
    "y_pred = gnb.predict(iris.data[:,[idx_1,idx_2]])\n",
    "# compute the number of mislabeled genes\n",
    "print(\"Number of mislabeled points out of a total %d points : %d\" % \\\n",
    "      (n_samples, (iris.target != y_pred).sum()))"
   ]
  },
  {
   "cell_type": "markdown",
   "metadata": {},
   "source": [
    "## 5. Digits data\n",
    "\n",
    "Let us now take a look at the Digits dataset. This data set, also very classical, contains images of hand-written digits, each labeled with the corresponding digit. This means there are 10 classes in this data. Each image has been compressed into an 8 × 8 matrix."
   ]
  },
  {
   "cell_type": "markdown",
   "metadata": {},
   "source": [
    "### Loading the digits data"
   ]
  },
  {
   "cell_type": "code",
   "execution_count": 43,
   "metadata": {
    "collapsed": true
   },
   "outputs": [],
   "source": [
    "# Load the digits dataset\n",
    "from sklearn.datasets import load_digits\n",
    "digits = load_digits()"
   ]
  },
  {
   "cell_type": "code",
   "execution_count": 44,
   "metadata": {
    "collapsed": false
   },
   "outputs": [
    {
     "name": "stdout",
     "output_type": "stream",
     "text": [
      "[0 1 2 3 4 5 6 7 8 9]\n"
     ]
    }
   ],
   "source": [
    "# Each data point is an image, and has for target the number it represents\n",
    "print np.unique(digits.target)"
   ]
  },
  {
   "cell_type": "markdown",
   "metadata": {},
   "source": [
    "What is the difference between `digits.data` and `digits.images`? Actually, `digits.data` is simply `digits.images` reshaped, with the 8×8 array flattened out in a 64-dimensional vector. These two representations can exist without needing to fully duplicate the data, and hence the memory overhead is very small. Indeed, the two arrays, although they have different shapes, point at the same memory block. To check this is true:"
   ]
  },
  {
   "cell_type": "code",
   "execution_count": 45,
   "metadata": {
    "collapsed": false
   },
   "outputs": [
    {
     "name": "stdout",
     "output_type": "stream",
     "text": [
      "True\n",
      "(63823408, False)\n",
      "(63823408, False)\n"
     ]
    }
   ],
   "source": [
    "# check the two arrays contain identical data\n",
    "print np.all(digits.images.reshape((1797, 64)) == digits.data)\n",
    "\n",
    "# check the two arrays point to the same memory address\n",
    "print digits.data.__array_interface__['data']\n",
    "print digits.images.__array_interface__['data']"
   ]
  },
  {
   "cell_type": "markdown",
   "metadata": {},
   "source": [
    "### Visualizing the digits data"
   ]
  },
  {
   "cell_type": "code",
   "execution_count": 46,
   "metadata": {
    "collapsed": false
   },
   "outputs": [
    {
     "data": {
      "image/png": "[encoded data removed]",
      "text/plain": [
       "<matplotlib.figure.Figure at 0x7f9995927190>"
      ]
     },
     "metadata": {},
     "output_type": "display_data"
    }
   ],
   "source": [
    "# set up a figure that will contain multiple subplots\n",
    "fig = plt.figure(figsize=(6, 6)) # figure size in inches\n",
    "fig.subplots_adjust(left=0, right=1, bottom=0, top=1, hspace=0.05, wspace=0.05)\n",
    "\n",
    "# plot the 49 first digits: each image is 8 by 8 pixels\n",
    "for i in range(49):\n",
    "    ax = fig.add_subplot(7, 7, i + 1, xticks=[], yticks=[])\n",
    "    ax.imshow(digits.images[i], cmap=plt.cm.Greys, interpolation='nearest')\n",
    "    \n",
    "    # label the image with the target value\n",
    "    ax.text(0, 6, str(digits.target[i]))\n",
    "plt.show()    "
   ]
  },
  {
   "cell_type": "markdown",
   "metadata": {},
   "source": [
    "**Question:** What is the effect of the `interpolation='nearest'` parameter?"
   ]
  },
  {
   "cell_type": "markdown",
   "metadata": {},
   "source": [
    "If interpolation is 'none', then no interpolation is performed on the Agg, ps and pdf backends. Other\n",
    "backends will fall back to 'nearest'."
   ]
  },
  {
   "cell_type": "markdown",
   "metadata": {},
   "source": [
    "**Question:** Modify the above script to visualize all the “8” contained in the data. Use the `cmap` option of `imshow` to display the data with a colormap that is more appropriate for visualizing intensities."
   ]
  },
  {
   "cell_type": "code",
   "execution_count": 67,
   "metadata": {
    "collapsed": false
   },
   "outputs": [
    {
     "name": "stdout",
     "output_type": "stream",
     "text": [
      "[8 8 8 8 8 8 8 8 8 8 8 8 8 8 8 8 8 8 8 8 8 8 8 8 8 8 8 8 8 8 8 8 8 8 8 8 8\n",
      " 8 8 8 8 8 8 8 8 8 8 8 8 8 8 8 8 8 8 8 8 8 8 8 8 8 8 8 8 8 8 8 8 8 8 8 8 8\n",
      " 8 8 8 8 8 8 8 8 8 8 8 8 8 8 8 8 8 8 8 8 8 8 8 8 8 8 8 8 8 8 8 8 8 8 8 8 8\n",
      " 8 8 8 8 8 8 8 8 8 8 8 8 8 8 8 8 8 8 8 8 8 8 8 8 8 8 8 8 8 8 8 8 8 8 8 8 8\n",
      " 8 8 8 8 8 8 8 8 8 8 8 8 8 8 8 8 8 8 8 8 8 8 8 8 8 8]\n"
     ]
    }
   ],
   "source": [
    "indexes = np.array([])\n",
    "for idx ,(value) in enumerate(digits.target):\n",
    "    if value == 8:\n",
    "        indexes = np.append(indexes, [int(idx)])\n",
    "\n",
    "indexes = map(int, indexes) #We parse the values into int\n",
    "\n",
    "print digits.target[indexes] #We check if we get only 8 values"
   ]
  },
  {
   "cell_type": "code",
   "execution_count": 76,
   "metadata": {
    "collapsed": false
   },
   "outputs": [
    {
     "data": {
      "image/png": "[encoded data removed]",
      "text/plain": [
       "<matplotlib.figure.Figure at 0x7f99942193d0>"
      ]
     },
     "metadata": {},
     "output_type": "display_data"
    }
   ],
   "source": [
    "# set up a figure that will contain multiple subplots\n",
    "fig = plt.figure(figsize=(6, 6)) # figure size in inches\n",
    "fig.subplots_adjust(left=0, right=1, bottom=0, top=1, hspace=0.05, wspace=0.05)\n",
    "\n",
    "indexes50 = indexes[0:49]\n",
    "\n",
    "# plot all the 8 contained in the datas\n",
    "for idx, index in enumerate(indexes50):\n",
    "    ax = fig.add_subplot(7, 7, idx + 1, xticks=[], yticks=[])\n",
    "    ax.imshow(digits.images[index], cmap=plt.cm.hot, interpolation='nearest')\n",
    "    \n",
    "    # label the image with the target value\n",
    "    ax.text(0, 6, str(digits.target[index]))\n",
    "plt.show()"
   ]
  },
  {
   "cell_type": "markdown",
   "metadata": {},
   "source": [
    "**Question:** Create a Gaussian Naive Bayes classifier and train it on the Digits data. Look at some of the mislabeled digits. What were their actual class, what digit were they mistaken for? Can you guess why?"
   ]
  },
  {
   "cell_type": "code",
   "execution_count": 80,
   "metadata": {
    "collapsed": false
   },
   "outputs": [
    {
     "name": "stdout",
     "output_type": "stream",
     "text": [
      "Number of mislabeled digits out of a total 1797 digits : 255\n"
     ]
    }
   ],
   "source": [
    "gnb.fit(digits.data, digits.target)\n",
    "y_pred = gnb.predict(digits.data)\n",
    "\n",
    "# compute the number of mislabeled digits\n",
    "print(\"Number of mislabeled digits out of a total %d digits : %d\" % \\\n",
    "      (digits.target.shape[0], (digits.target != y_pred).sum()))"
   ]
  },
  {
   "cell_type": "code",
   "execution_count": 97,
   "metadata": {
    "collapsed": false
   },
   "outputs": [
    {
     "name": "stdout",
     "output_type": "stream",
     "text": [
      "The digit of index = 2 is mislabeled. Predicted label : 8 -> True label : 2\n",
      "The digit of index = 5 is mislabeled. Predicted label : 9 -> True label : 5\n",
      "The digit of index = 18 is mislabeled. Predicted label : 7 -> True label : 8\n",
      "The digit of index = 19 is mislabeled. Predicted label : 3 -> True label : 9\n",
      "The digit of index = 27 is mislabeled. Predicted label : 4 -> True label : 7\n",
      "The digit of index = 31 is mislabeled. Predicted label : 3 -> True label : 9\n",
      "The digit of index = 37 is mislabeled. Predicted label : 8 -> True label : 9\n",
      "The digit of index = 39 is mislabeled. Predicted label : 3 -> True label : 9\n",
      "The digit of index = 46 is mislabeled. Predicted label : 8 -> True label : 5\n",
      "The digit of index = 50 is mislabeled. Predicted label : 8 -> True label : 2\n",
      "The digit of index = 51 is mislabeled. Predicted label : 1 -> True label : 2\n",
      "The digit of index = 54 is mislabeled. Predicted label : 8 -> True label : 2\n",
      "The digit of index = 57 is mislabeled. Predicted label : 8 -> True label : 2\n",
      "The digit of index = 69 is mislabeled. Predicted label : 7 -> True label : 9\n",
      "The digit of index = 73 is mislabeled. Predicted label : 3 -> True label : 9\n",
      "The digit of index = 75 is mislabeled. Predicted label : 1 -> True label : 2\n",
      "The digit of index = 77 is mislabeled. Predicted label : 8 -> True label : 2\n",
      "The digit of index = 87 is mislabeled. Predicted label : 1 -> True label : 4\n",
      "The digit of index = 96 is mislabeled. Predicted label : 7 -> True label : 8\n",
      "The digit of index = 103 is mislabeled. Predicted label : 7 -> True label : 3\n",
      "The digit of index = 110 is mislabeled. Predicted label : 5 -> True label : 4\n",
      "The digit of index = 113 is mislabeled. Predicted label : 8 -> True label : 2\n",
      "The digit of index = 115 is mislabeled. Predicted label : 8 -> True label : 2\n",
      "The digit of index = 116 is mislabeled. Predicted label : 8 -> True label : 2\n",
      "The digit of index = 122 is mislabeled. Predicted label : 1 -> True label : 8\n",
      "The digit of index = 123 is mislabeled. Predicted label : 1 -> True label : 8\n",
      "The digit of index = 125 is mislabeled. Predicted label : 8 -> True label : 9\n",
      "The digit of index = 129 is mislabeled. Predicted label : 1 -> True label : 8\n",
      "The digit of index = 131 is mislabeled. Predicted label : 9 -> True label : 1\n",
      "The digit of index = 133 is mislabeled. Predicted label : 7 -> True label : 3\n",
      "The digit of index = 142 is mislabeled. Predicted label : 8 -> True label : 2\n",
      "The digit of index = 152 is mislabeled. Predicted label : 8 -> True label : 2\n",
      "The digit of index = 161 is mislabeled. Predicted label : 1 -> True label : 9\n",
      "The digit of index = 172 is mislabeled. Predicted label : 9 -> True label : 1\n",
      "The digit of index = 180 is mislabeled. Predicted label : 8 -> True label : 2\n",
      "The digit of index = 181 is mislabeled. Predicted label : 8 -> True label : 2\n",
      "The digit of index = 184 is mislabeled. Predicted label : 8 -> True label : 2\n",
      "The digit of index = 187 is mislabeled. Predicted label : 8 -> True label : 2\n",
      "The digit of index = 205 is mislabeled. Predicted label : 8 -> True label : 2\n",
      "The digit of index = 207 is mislabeled. Predicted label : 8 -> True label : 2\n",
      "The digit of index = 214 is mislabeled. Predicted label : 8 -> True label : 2\n",
      "The digit of index = 215 is mislabeled. Predicted label : 8 -> True label : 1\n",
      "The digit of index = 238 is mislabeled. Predicted label : 8 -> True label : 4\n",
      "The digit of index = 243 is mislabeled. Predicted label : 5 -> True label : 2\n",
      "The digit of index = 244 is mislabeled. Predicted label : 8 -> True label : 2\n",
      "The digit of index = 254 is mislabeled. Predicted label : 8 -> True label : 9\n",
      "The digit of index = 258 is mislabeled. Predicted label : 8 -> True label : 2\n",
      "The digit of index = 260 is mislabeled. Predicted label : 7 -> True label : 4\n",
      "The digit of index = 265 is mislabeled. Predicted label : 7 -> True label : 9\n",
      "The digit of index = 271 is mislabeled. Predicted label : 7 -> True label : 5\n",
      "The digit of index = 275 is mislabeled. Predicted label : 7 -> True label : 9\n",
      "The digit of index = 293 is mislabeled. Predicted label : 8 -> True label : 9\n",
      "The digit of index = 307 is mislabeled. Predicted label : 8 -> True label : 2\n",
      "The digit of index = 310 is mislabeled. Predicted label : 8 -> True label : 2\n",
      "The digit of index = 325 is mislabeled. Predicted label : 7 -> True label : 9\n",
      "The digit of index = 327 is mislabeled. Predicted label : 8 -> True label : 5\n",
      "The digit of index = 329 is mislabeled. Predicted label : 7 -> True label : 9\n",
      "The digit of index = 331 is mislabeled. Predicted label : 8 -> True label : 2\n",
      "The digit of index = 340 is mislabeled. Predicted label : 8 -> True label : 2\n",
      "The digit of index = 348 is mislabeled. Predicted label : 7 -> True label : 9\n",
      "The digit of index = 356 is mislabeled. Predicted label : 7 -> True label : 4\n",
      "The digit of index = 361 is mislabeled. Predicted label : 7 -> True label : 9\n",
      "The digit of index = 369 is mislabeled. Predicted label : 8 -> True label : 2\n",
      "The digit of index = 375 is mislabeled. Predicted label : 7 -> True label : 9\n",
      "The digit of index = 384 is mislabeled. Predicted label : 7 -> True label : 9\n",
      "The digit of index = 420 is mislabeled. Predicted label : 5 -> True label : 6\n",
      "The digit of index = 421 is mislabeled. Predicted label : 3 -> True label : 5\n",
      "The digit of index = 427 is mislabeled. Predicted label : 7 -> True label : 4\n",
      "The digit of index = 446 is mislabeled. Predicted label : 5 -> True label : 3\n",
      "The digit of index = 461 is mislabeled. Predicted label : 1 -> True label : 2\n",
      "The digit of index = 470 is mislabeled. Predicted label : 8 -> True label : 2\n",
      "The digit of index = 492 is mislabeled. Predicted label : 1 -> True label : 6\n",
      "The digit of index = 510 is mislabeled. Predicted label : 8 -> True label : 4\n",
      "The digit of index = 518 is mislabeled. Predicted label : 1 -> True label : 2\n",
      "The digit of index = 528 is mislabeled. Predicted label : 8 -> True label : 2\n",
      "The digit of index = 529 is mislabeled. Predicted label : 8 -> True label : 3\n",
      "The digit of index = 530 is mislabeled. Predicted label : 7 -> True label : 4\n",
      "The digit of index = 539 is mislabeled. Predicted label : 8 -> True label : 3\n",
      "The digit of index = 547 is mislabeled. Predicted label : 8 -> True label : 9\n",
      "The digit of index = 555 is mislabeled. Predicted label : 8 -> True label : 9\n",
      "The digit of index = 557 is mislabeled. Predicted label : 7 -> True label : 4\n",
      "The digit of index = 575 is mislabeled. Predicted label : 2 -> True label : 3\n",
      "The digit of index = 578 is mislabeled. Predicted label : 8 -> True label : 3\n",
      "The digit of index = 579 is mislabeled. Predicted label : 8 -> True label : 3\n",
      "The digit of index = 584 is mislabeled. Predicted label : 7 -> True label : 4\n",
      "The digit of index = 589 is mislabeled. Predicted label : 8 -> True label : 9\n",
      "The digit of index = 599 is mislabeled. Predicted label : 2 -> True label : 3\n",
      "The digit of index = 603 is mislabeled. Predicted label : 7 -> True label : 4\n",
      "The digit of index = 605 is mislabeled. Predicted label : 8 -> True label : 3\n",
      "The digit of index = 606 is mislabeled. Predicted label : 6 -> True label : 1\n",
      "The digit of index = 607 is mislabeled. Predicted label : 8 -> True label : 3\n",
      "The digit of index = 616 is mislabeled. Predicted label : 7 -> True label : 4\n",
      "The digit of index = 621 is mislabeled. Predicted label : 8 -> True label : 9\n",
      "The digit of index = 633 is mislabeled. Predicted label : 7 -> True label : 5\n",
      "The digit of index = 637 is mislabeled. Predicted label : 7 -> True label : 4\n",
      "The digit of index = 639 is mislabeled. Predicted label : 1 -> True label : 8\n",
      "The digit of index = 640 is mislabeled. Predicted label : 7 -> True label : 4\n",
      "The digit of index = 643 is mislabeled. Predicted label : 1 -> True label : 8\n",
      "The digit of index = 648 is mislabeled. Predicted label : 8 -> True label : 2\n",
      "The digit of index = 658 is mislabeled. Predicted label : 8 -> True label : 2\n",
      "The digit of index = 667 is mislabeled. Predicted label : 6 -> True label : 1\n",
      "The digit of index = 668 is mislabeled. Predicted label : 8 -> True label : 2\n",
      "The digit of index = 677 is mislabeled. Predicted label : 1 -> True label : 9\n",
      "The digit of index = 683 is mislabeled. Predicted label : 1 -> True label : 9\n",
      "The digit of index = 685 is mislabeled. Predicted label : 1 -> True label : 9\n",
      "The digit of index = 696 is mislabeled. Predicted label : 8 -> True label : 2\n",
      "The digit of index = 697 is mislabeled. Predicted label : 8 -> True label : 2\n",
      "The digit of index = 700 is mislabeled. Predicted label : 8 -> True label : 2\n",
      "The digit of index = 703 is mislabeled. Predicted label : 8 -> True label : 2\n",
      "The digit of index = 710 is mislabeled. Predicted label : 7 -> True label : 4\n",
      "The digit of index = 719 is mislabeled. Predicted label : 1 -> True label : 9\n",
      "The digit of index = 721 is mislabeled. Predicted label : 8 -> True label : 2\n",
      "The digit of index = 723 is mislabeled. Predicted label : 8 -> True label : 2\n",
      "The digit of index = 730 is mislabeled. Predicted label : 8 -> True label : 2\n",
      "The digit of index = 731 is mislabeled. Predicted label : 7 -> True label : 1\n",
      "The digit of index = 736 is mislabeled. Predicted label : 7 -> True label : 1\n",
      "The digit of index = 743 is mislabeled. Predicted label : 7 -> True label : 4\n",
      "The digit of index = 745 is mislabeled. Predicted label : 7 -> True label : 1\n",
      "The digit of index = 746 is mislabeled. Predicted label : 7 -> True label : 4\n",
      "The digit of index = 751 is mislabeled. Predicted label : 7 -> True label : 9\n",
      "The digit of index = 753 is mislabeled. Predicted label : 7 -> True label : 1\n",
      "The digit of index = 759 is mislabeled. Predicted label : 8 -> True label : 2\n",
      "The digit of index = 761 is mislabeled. Predicted label : 8 -> True label : 2\n",
      "The digit of index = 762 is mislabeled. Predicted label : 8 -> True label : 2\n",
      "The digit of index = 770 is mislabeled. Predicted label : 7 -> True label : 4\n",
      "The digit of index = 771 is mislabeled. Predicted label : 4 -> True label : 9\n",
      "The digit of index = 779 is mislabeled. Predicted label : 5 -> True label : 3\n",
      "The digit of index = 781 is mislabeled. Predicted label : 7 -> True label : 5\n",
      "The digit of index = 784 is mislabeled. Predicted label : 5 -> True label : 8\n",
      "The digit of index = 790 is mislabeled. Predicted label : 6 -> True label : 4\n",
      "The digit of index = 794 is mislabeled. Predicted label : 1 -> True label : 8\n",
      "The digit of index = 808 is mislabeled. Predicted label : 7 -> True label : 5\n",
      "The digit of index = 813 is mislabeled. Predicted label : 3 -> True label : 9\n",
      "The digit of index = 818 is mislabeled. Predicted label : 8 -> True label : 1\n",
      "The digit of index = 821 is mislabeled. Predicted label : 8 -> True label : 3\n",
      "The digit of index = 823 is mislabeled. Predicted label : 8 -> True label : 1\n",
      "The digit of index = 826 is mislabeled. Predicted label : 8 -> True label : 2\n",
      "The digit of index = 835 is mislabeled. Predicted label : 8 -> True label : 3\n",
      "The digit of index = 838 is mislabeled. Predicted label : 9 -> True label : 3\n",
      "The digit of index = 839 is mislabeled. Predicted label : 8 -> True label : 3\n",
      "The digit of index = 844 is mislabeled. Predicted label : 6 -> True label : 4\n",
      "The digit of index = 847 is mislabeled. Predicted label : 7 -> True label : 5\n",
      "The digit of index = 856 is mislabeled. Predicted label : 8 -> True label : 1\n",
      "The digit of index = 860 is mislabeled. Predicted label : 8 -> True label : 2\n",
      "The digit of index = 861 is mislabeled. Predicted label : 8 -> True label : 1\n",
      "The digit of index = 868 is mislabeled. Predicted label : 8 -> True label : 9\n",
      "The digit of index = 874 is mislabeled. Predicted label : 8 -> True label : 3\n",
      "The digit of index = 879 is mislabeled. Predicted label : 8 -> True label : 3\n",
      "The digit of index = 891 is mislabeled. Predicted label : 8 -> True label : 2\n",
      "The digit of index = 892 is mislabeled. Predicted label : 8 -> True label : 2\n",
      "The digit of index = 899 is mislabeled. Predicted label : 5 -> True label : 8\n",
      "The digit of index = 905 is mislabeled. Predicted label : 1 -> True label : 8\n",
      "The digit of index = 930 is mislabeled. Predicted label : 3 -> True label : 5\n",
      "The digit of index = 951 is mislabeled. Predicted label : 3 -> True label : 5\n",
      "The digit of index = 985 is mislabeled. Predicted label : 1 -> True label : 3\n",
      "The digit of index = 1016 is mislabeled. Predicted label : 1 -> True label : 2\n",
      "The digit of index = 1022 is mislabeled. Predicted label : 7 -> True label : 4\n",
      "The digit of index = 1048 is mislabeled. Predicted label : 8 -> True label : 9\n",
      "The digit of index = 1058 is mislabeled. Predicted label : 5 -> True label : 9\n",
      "The digit of index = 1060 is mislabeled. Predicted label : 8 -> True label : 9\n",
      "The digit of index = 1064 is mislabeled. Predicted label : 7 -> True label : 5\n",
      "The digit of index = 1066 is mislabeled. Predicted label : 8 -> True label : 9\n",
      "The digit of index = 1068 is mislabeled. Predicted label : 8 -> True label : 9\n",
      "The digit of index = 1071 is mislabeled. Predicted label : 8 -> True label : 1\n",
      "The digit of index = 1080 is mislabeled. Predicted label : 7 -> True label : 8\n",
      "The digit of index = 1095 is mislabeled. Predicted label : 7 -> True label : 4\n",
      "The digit of index = 1096 is mislabeled. Predicted label : 8 -> True label : 9\n",
      "The digit of index = 1100 is mislabeled. Predicted label : 8 -> True label : 9\n",
      "The digit of index = 1117 is mislabeled. Predicted label : 8 -> True label : 1\n",
      "The digit of index = 1118 is mislabeled. Predicted label : 7 -> True label : 3\n",
      "The digit of index = 1132 is mislabeled. Predicted label : 8 -> True label : 9\n",
      "The digit of index = 1143 is mislabeled. Predicted label : 1 -> True label : 2\n",
      "The digit of index = 1146 is mislabeled. Predicted label : 8 -> True label : 9\n",
      "The digit of index = 1152 is mislabeled. Predicted label : 1 -> True label : 9\n",
      "The digit of index = 1155 is mislabeled. Predicted label : 8 -> True label : 9\n",
      "The digit of index = 1185 is mislabeled. Predicted label : 7 -> True label : 8\n",
      "The digit of index = 1202 is mislabeled. Predicted label : 7 -> True label : 3\n",
      "The digit of index = 1208 is mislabeled. Predicted label : 8 -> True label : 2\n",
      "The digit of index = 1210 is mislabeled. Predicted label : 7 -> True label : 8\n",
      "The digit of index = 1233 is mislabeled. Predicted label : 7 -> True label : 8\n",
      "The digit of index = 1241 is mislabeled. Predicted label : 8 -> True label : 2\n",
      "The digit of index = 1242 is mislabeled. Predicted label : 8 -> True label : 1\n",
      "The digit of index = 1253 is mislabeled. Predicted label : 7 -> True label : 8\n",
      "The digit of index = 1256 is mislabeled. Predicted label : 6 -> True label : 1\n",
      "The digit of index = 1283 is mislabeled. Predicted label : 7 -> True label : 0\n",
      "The digit of index = 1284 is mislabeled. Predicted label : 7 -> True label : 8\n",
      "The digit of index = 1299 is mislabeled. Predicted label : 1 -> True label : 2\n",
      "The digit of index = 1301 is mislabeled. Predicted label : 0 -> True label : 4\n",
      "The digit of index = 1309 is mislabeled. Predicted label : 8 -> True label : 2\n",
      "The digit of index = 1326 is mislabeled. Predicted label : 8 -> True label : 9\n",
      "The digit of index = 1338 is mislabeled. Predicted label : 1 -> True label : 2\n",
      "The digit of index = 1341 is mislabeled. Predicted label : 1 -> True label : 2\n",
      "The digit of index = 1346 is mislabeled. Predicted label : 8 -> True label : 3\n",
      "The digit of index = 1361 is mislabeled. Predicted label : 6 -> True label : 5\n",
      "The digit of index = 1364 is mislabeled. Predicted label : 1 -> True label : 2\n",
      "The digit of index = 1409 is mislabeled. Predicted label : 7 -> True label : 8\n",
      "The digit of index = 1423 is mislabeled. Predicted label : 3 -> True label : 8\n",
      "The digit of index = 1457 is mislabeled. Predicted label : 9 -> True label : 1\n",
      "The digit of index = 1488 is mislabeled. Predicted label : 5 -> True label : 9\n",
      "The digit of index = 1495 is mislabeled. Predicted label : 9 -> True label : 1\n",
      "The digit of index = 1514 is mislabeled. Predicted label : 9 -> True label : 1\n",
      "The digit of index = 1522 is mislabeled. Predicted label : 9 -> True label : 1\n",
      "The digit of index = 1540 is mislabeled. Predicted label : 0 -> True label : 9\n",
      "The digit of index = 1548 is mislabeled. Predicted label : 1 -> True label : 3\n",
      "The digit of index = 1553 is mislabeled. Predicted label : 1 -> True label : 8\n",
      "The digit of index = 1556 is mislabeled. Predicted label : 8 -> True label : 1\n",
      "The digit of index = 1557 is mislabeled. Predicted label : 1 -> True label : 2\n",
      "The digit of index = 1562 is mislabeled. Predicted label : 7 -> True label : 9\n",
      "The digit of index = 1571 is mislabeled. Predicted label : 5 -> True label : 8\n",
      "The digit of index = 1572 is mislabeled. Predicted label : 7 -> True label : 9\n",
      "The digit of index = 1573 is mislabeled. Predicted label : 4 -> True label : 0\n",
      "The digit of index = 1580 is mislabeled. Predicted label : 7 -> True label : 9\n",
      "The digit of index = 1581 is mislabeled. Predicted label : 7 -> True label : 8\n",
      "The digit of index = 1582 is mislabeled. Predicted label : 7 -> True label : 9\n",
      "The digit of index = 1588 is mislabeled. Predicted label : 8 -> True label : 3\n",
      "The digit of index = 1593 is mislabeled. Predicted label : 1 -> True label : 2\n",
      "The digit of index = 1597 is mislabeled. Predicted label : 1 -> True label : 2\n",
      "The digit of index = 1599 is mislabeled. Predicted label : 7 -> True label : 1\n",
      "The digit of index = 1602 is mislabeled. Predicted label : 8 -> True label : 3\n",
      "The digit of index = 1603 is mislabeled. Predicted label : 7 -> True label : 3\n",
      "The digit of index = 1605 is mislabeled. Predicted label : 7 -> True label : 3\n",
      "The digit of index = 1606 is mislabeled. Predicted label : 8 -> True label : 3\n",
      "The digit of index = 1607 is mislabeled. Predicted label : 7 -> True label : 4\n",
      "The digit of index = 1611 is mislabeled. Predicted label : 7 -> True label : 4\n",
      "The digit of index = 1612 is mislabeled. Predicted label : 7 -> True label : 9\n",
      "The digit of index = 1628 is mislabeled. Predicted label : 7 -> True label : 4\n",
      "The digit of index = 1632 is mislabeled. Predicted label : 8 -> True label : 3\n",
      "The digit of index = 1633 is mislabeled. Predicted label : 7 -> True label : 9\n",
      "The digit of index = 1652 is mislabeled. Predicted label : 7 -> True label : 4\n",
      "The digit of index = 1654 is mislabeled. Predicted label : 6 -> True label : 2\n",
      "The digit of index = 1657 is mislabeled. Predicted label : 5 -> True label : 7\n",
      "The digit of index = 1658 is mislabeled. Predicted label : 8 -> True label : 9\n",
      "The digit of index = 1660 is mislabeled. Predicted label : 8 -> True label : 4\n",
      "The digit of index = 1662 is mislabeled. Predicted label : 5 -> True label : 9\n",
      "The digit of index = 1664 is mislabeled. Predicted label : 7 -> True label : 8\n",
      "The digit of index = 1665 is mislabeled. Predicted label : 7 -> True label : 9\n",
      "The digit of index = 1666 is mislabeled. Predicted label : 7 -> True label : 8\n",
      "The digit of index = 1668 is mislabeled. Predicted label : 8 -> True label : 1\n",
      "The digit of index = 1670 is mislabeled. Predicted label : 5 -> True label : 3\n",
      "The digit of index = 1679 is mislabeled. Predicted label : 8 -> True label : 2\n",
      "The digit of index = 1680 is mislabeled. Predicted label : 8 -> True label : 3\n",
      "The digit of index = 1690 is mislabeled. Predicted label : 5 -> True label : 3\n",
      "The digit of index = 1708 is mislabeled. Predicted label : 7 -> True label : 4\n",
      "The digit of index = 1712 is mislabeled. Predicted label : 7 -> True label : 3\n",
      "The digit of index = 1717 is mislabeled. Predicted label : 8 -> True label : 2\n",
      "The digit of index = 1726 is mislabeled. Predicted label : 8 -> True label : 3\n",
      "The digit of index = 1727 is mislabeled. Predicted label : 8 -> True label : 3\n",
      "The digit of index = 1729 is mislabeled. Predicted label : 5 -> True label : 3\n",
      "The digit of index = 1730 is mislabeled. Predicted label : 8 -> True label : 3\n",
      "The digit of index = 1737 is mislabeled. Predicted label : 8 -> True label : 1\n",
      "The digit of index = 1747 is mislabeled. Predicted label : 8 -> True label : 1\n",
      "The digit of index = 1751 is mislabeled. Predicted label : 8 -> True label : 2\n",
      "The digit of index = 1757 is mislabeled. Predicted label : 8 -> True label : 1\n",
      "The digit of index = 1765 is mislabeled. Predicted label : 5 -> True label : 3\n",
      "The digit of index = 1766 is mislabeled. Predicted label : 8 -> True label : 1\n"
     ]
    }
   ],
   "source": [
    "for idx, val in enumerate(digits.target):\n",
    "    if val != y_pred[idx]:\n",
    "        print(\"The digit of index = %d is mislabeled. Predicted label : %d -> True label : %d\" % \\\n",
    "              (idx,y_pred[idx],digits.target[idx]))\n",
    "    "
   ]
  },
  {
   "cell_type": "code",
   "execution_count": null,
   "metadata": {
    "collapsed": true
   },
   "outputs": [],
   "source": []
  }
 ],
 "metadata": {
  "anaconda-cloud": {},
  "kernelspec": {
   "display_name": "Python [default]",
   "language": "python",
   "name": "python2"
  },
  "language_info": {
   "codemirror_mode": {
    "name": "ipython",
    "version": 2
   },
   "file_extension": ".py",
   "mimetype": "text/x-python",
   "name": "python",
   "nbconvert_exporter": "python",
   "pygments_lexer": "ipython2",
   "version": "2.7.12"
  }
 },
 "nbformat": 4,
 "nbformat_minor": 0
}
